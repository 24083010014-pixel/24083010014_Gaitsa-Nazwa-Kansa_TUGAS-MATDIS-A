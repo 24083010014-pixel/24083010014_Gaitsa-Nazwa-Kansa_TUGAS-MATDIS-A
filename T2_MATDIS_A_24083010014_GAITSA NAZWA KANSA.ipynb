{
  "nbformat": 4,
  "nbformat_minor": 0,
  "metadata": {
    "colab": {
      "provenance": []
    },
    "kernelspec": {
      "name": "python3",
      "display_name": "Python 3"
    },
    "language_info": {
      "name": "python"
    }
  },
  "cells": [
    {
      "cell_type": "markdown",
      "source": [
        "Nama: Gaitsa Nazwa Kansa\n",
        "\n",
        "NPM: 24083010014\n",
        "\n",
        "Mata Kuliah: Matematika Diskrit A\n"
      ],
      "metadata": {
        "id": "BnWiJNgXlICT"
      }
    },
    {
      "cell_type": "code",
      "source": [
        "import math\n",
        "\n",
        "# Pernyataan 1:\n",
        "# 1 + 2 + 2^2 + ... + 2^n = 2^(n+1) - 1\n",
        "def cek_p1(n):\n",
        "    total = 0\n",
        "    for i in range(n+1):\n",
        "        total += 2**i\n",
        "    return total == 2**(n+1) - 1\n",
        "\n",
        "# Pernyataan 5:\n",
        "# 2^n > n^2\n",
        "def cek_p5(n):\n",
        "    return 2**n > n**2\n",
        "\n",
        "# Cetak hasil untuk n=0..10 (p1) dan n=1..15 (p5)\n",
        "print(\"Hasil cek Pernyataan 1\")\n",
        "for n in range(0, 11):\n",
        "    print(f\"n={n:2d} --> {cek_p1(n)}\")\n",
        "\n",
        "print(\"\\nHasil cek Pernyataan 5\")\n",
        "for n in range(1, 16):\n",
        "    print(f\"n={n:2d} --> {cek_p5(n)}\")"
      ],
      "metadata": {
        "colab": {
          "base_uri": "https://localhost:8080/"
        },
        "id": "BiGkMr0FfbY9",
        "outputId": "bf0bf5a6-0bd1-4dc7-eed8-71cbeb91e50f"
      },
      "execution_count": 7,
      "outputs": [
        {
          "output_type": "stream",
          "name": "stdout",
          "text": [
            "Hasil cek Pernyataan 1\n",
            "n= 0 --> True\n",
            "n= 1 --> True\n",
            "n= 2 --> True\n",
            "n= 3 --> True\n",
            "n= 4 --> True\n",
            "n= 5 --> True\n",
            "n= 6 --> True\n",
            "n= 7 --> True\n",
            "n= 8 --> True\n",
            "n= 9 --> True\n",
            "n=10 --> True\n",
            "\n",
            "Hasil cek Pernyataan 5\n",
            "n= 1 --> True\n",
            "n= 2 --> False\n",
            "n= 3 --> False\n",
            "n= 4 --> False\n",
            "n= 5 --> True\n",
            "n= 6 --> True\n",
            "n= 7 --> True\n",
            "n= 8 --> True\n",
            "n= 9 --> True\n",
            "n=10 --> True\n",
            "n=11 --> True\n",
            "n=12 --> True\n",
            "n=13 --> True\n",
            "n=14 --> True\n",
            "n=15 --> True\n"
          ]
        }
      ]
    },
    {
      "cell_type": "markdown",
      "source": [
        "Pertanyaan 1: 1 + 2 + 2^2 + ... + 2^n = 2^(n+1) - 1\n",
        "\n",
        "Untuk pernyataan tersebut, hasil output menunjukkan bahwa persamaan tersebut selalu bernilai benar untuk setiap nilai 𝑛 yang diuji. Hal ini menegaskan bahwa pernyataan tersebut memang merupakan rumus umum dari jumlah deret geometri, sehingga dapat dipastikan kebenarannya tanpa terkecuali. Dengan kata lain, tidak ada nilai 𝑛 yang membuat pernyataan ini salah karena sifat aljabar dari deret geometri sudah pasti mengarah pada bentuk tertutup tersebut.\n",
        "\n",
        "\n",
        "\n",
        "---\n",
        "\n",
        "\n",
        "Pertanyaan 2: 2^n > n^2\n",
        "\n",
        "Untuk pernyataan tersebut, hasil program memperlihatkan bahwa perbandingan\n",
        "2^𝑛 > 𝑛^2 tidak selalu benar pada nilai 𝑛 kecil. Untuk 𝑛 = 2, 3, dan 4, kuadrat masih lebih besar atau sama besar dengan eksponensial, sehingga pernyataan bernilai salah. Namun, sejak 𝑛 = 5 ke atas, pertumbuhan 2^𝑛 jauh melampaui 𝑛^2, sehingga pernyataan tersebut menjadi benar secara konsisten. Ini menunjukkan adanya titik kritis pada 𝑛 = 5 yang menandai perubahan dominasi pertumbuhan fungsi, di mana eksponensial mulai mendominasi kuadrat."
      ],
      "metadata": {
        "id": "2RyHc4BchflY"
      }
    }
  ]
}